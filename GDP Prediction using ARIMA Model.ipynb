{
 "cells": [
  {
   "cell_type": "markdown",
   "id": "e4fbd9d3",
   "metadata": {},
   "source": [
    "## Predicting GDP Using ARIMA Model \n",
    "\n"
   ]
  },
  {
   "cell_type": "markdown",
   "id": "5febb9aa",
   "metadata": {},
   "source": [
    "## Importing Libraries"
   ]
  },
  {
   "cell_type": "code",
   "execution_count": 1,
   "id": "ac1b7644",
   "metadata": {},
   "outputs": [],
   "source": [
    "import numpy as np\n",
    "import pandas as pd\n",
    "import matplotlib.pyplot as plt\n",
    "import seaborn as sns"
   ]
  },
  {
   "cell_type": "markdown",
   "id": "1302c326",
   "metadata": {},
   "source": [
    "## Loading the dataset"
   ]
  },
  {
   "cell_type": "code",
   "execution_count": 2,
   "id": "22fb3083",
   "metadata": {},
   "outputs": [],
   "source": [
    "data = pd.read_csv(\"RealGDP.csv\")"
   ]
  },
  {
   "cell_type": "code",
   "execution_count": 3,
   "id": "d55ef57c",
   "metadata": {},
   "outputs": [],
   "source": [
    "# Making a copy of the data. Hence keeping the original dataframe aside.\n",
    "\n",
    "df = data.copy()"
   ]
  },
  {
   "cell_type": "code",
   "execution_count": 4,
   "id": "5b692bfb",
   "metadata": {},
   "outputs": [
    {
     "data": {
      "text/html": [
       "<div>\n",
       "<style scoped>\n",
       "    .dataframe tbody tr th:only-of-type {\n",
       "        vertical-align: middle;\n",
       "    }\n",
       "\n",
       "    .dataframe tbody tr th {\n",
       "        vertical-align: top;\n",
       "    }\n",
       "\n",
       "    .dataframe thead th {\n",
       "        text-align: right;\n",
       "    }\n",
       "</style>\n",
       "<table border=\"1\" class=\"dataframe\">\n",
       "  <thead>\n",
       "    <tr style=\"text-align: right;\">\n",
       "      <th></th>\n",
       "      <th>tyear</th>\n",
       "      <th>Period</th>\n",
       "      <th>Agriculture</th>\n",
       "      <th>CropProduction</th>\n",
       "      <th>Livestock</th>\n",
       "      <th>Forestry</th>\n",
       "      <th>Fishing</th>\n",
       "      <th>Industry</th>\n",
       "      <th>MiningAndQuarrying</th>\n",
       "      <th>CrudePetroleumAndNaturalGas</th>\n",
       "      <th>...</th>\n",
       "      <th>AdministrativeAndSupportServicesBusinessServices</th>\n",
       "      <th>PublicAdministration</th>\n",
       "      <th>Education</th>\n",
       "      <th>HumanHealthAndSocialServices</th>\n",
       "      <th>OtherServices</th>\n",
       "      <th>TOTAL_GDP</th>\n",
       "      <th>TotalGDPatConstantBasicPrices</th>\n",
       "      <th>NonOilGDPatConstantBasicPrices</th>\n",
       "      <th>NetIndirectTaxesOnProducts</th>\n",
       "      <th>TotalGDPatConstantMarketPrices</th>\n",
       "    </tr>\n",
       "  </thead>\n",
       "  <tbody>\n",
       "    <tr>\n",
       "      <th>0</th>\n",
       "      <td>1981</td>\n",
       "      <td>Annual</td>\n",
       "      <td>2364373.15</td>\n",
       "      <td>1854764.44</td>\n",
       "      <td>341411.50</td>\n",
       "      <td>77897.99</td>\n",
       "      <td>90299.23</td>\n",
       "      <td>6603250.12</td>\n",
       "      <td>NaN</td>\n",
       "      <td>4977416.70</td>\n",
       "      <td>...</td>\n",
       "      <td>3234.81</td>\n",
       "      <td>807075.54</td>\n",
       "      <td>242555.85</td>\n",
       "      <td>110697.65</td>\n",
       "      <td>132700.20</td>\n",
       "      <td>15258004.34</td>\n",
       "      <td>NaN</td>\n",
       "      <td>NaN</td>\n",
       "      <td>NaN</td>\n",
       "      <td>NaN</td>\n",
       "    </tr>\n",
       "    <tr>\n",
       "      <th>1</th>\n",
       "      <td>1982</td>\n",
       "      <td>Annual</td>\n",
       "      <td>2425960.89</td>\n",
       "      <td>1897078.85</td>\n",
       "      <td>361115.70</td>\n",
       "      <td>73910.25</td>\n",
       "      <td>93856.08</td>\n",
       "      <td>6272828.03</td>\n",
       "      <td>NaN</td>\n",
       "      <td>4453093.63</td>\n",
       "      <td>...</td>\n",
       "      <td>3252.38</td>\n",
       "      <td>825921.69</td>\n",
       "      <td>248219.81</td>\n",
       "      <td>113282.57</td>\n",
       "      <td>133767.58</td>\n",
       "      <td>14985078.32</td>\n",
       "      <td>NaN</td>\n",
       "      <td>NaN</td>\n",
       "      <td>NaN</td>\n",
       "      <td>NaN</td>\n",
       "    </tr>\n",
       "    <tr>\n",
       "      <th>2</th>\n",
       "      <td>1983</td>\n",
       "      <td>Annual</td>\n",
       "      <td>2409081.92</td>\n",
       "      <td>1842704.31</td>\n",
       "      <td>393131.01</td>\n",
       "      <td>75282.78</td>\n",
       "      <td>97963.82</td>\n",
       "      <td>5264881.39</td>\n",
       "      <td>NaN</td>\n",
       "      <td>4052977.68</td>\n",
       "      <td>...</td>\n",
       "      <td>3693.79</td>\n",
       "      <td>844767.84</td>\n",
       "      <td>253883.77</td>\n",
       "      <td>115867.49</td>\n",
       "      <td>125819.69</td>\n",
       "      <td>13849725.17</td>\n",
       "      <td>NaN</td>\n",
       "      <td>NaN</td>\n",
       "      <td>NaN</td>\n",
       "      <td>NaN</td>\n",
       "    </tr>\n",
       "    <tr>\n",
       "      <th>3</th>\n",
       "      <td>1984</td>\n",
       "      <td>Annual</td>\n",
       "      <td>2303505.42</td>\n",
       "      <td>1759115.15</td>\n",
       "      <td>399685.38</td>\n",
       "      <td>76694.14</td>\n",
       "      <td>68010.74</td>\n",
       "      <td>5621181.44</td>\n",
       "      <td>NaN</td>\n",
       "      <td>4559196.21</td>\n",
       "      <td>...</td>\n",
       "      <td>3979.28</td>\n",
       "      <td>863613.99</td>\n",
       "      <td>259547.73</td>\n",
       "      <td>118452.41</td>\n",
       "      <td>103092.67</td>\n",
       "      <td>13779255.49</td>\n",
       "      <td>NaN</td>\n",
       "      <td>NaN</td>\n",
       "      <td>NaN</td>\n",
       "      <td>NaN</td>\n",
       "    </tr>\n",
       "    <tr>\n",
       "      <th>4</th>\n",
       "      <td>1985</td>\n",
       "      <td>Annual</td>\n",
       "      <td>2731062.47</td>\n",
       "      <td>2180907.71</td>\n",
       "      <td>428102.85</td>\n",
       "      <td>78082.45</td>\n",
       "      <td>43969.46</td>\n",
       "      <td>6379599.38</td>\n",
       "      <td>NaN</td>\n",
       "      <td>4918272.50</td>\n",
       "      <td>...</td>\n",
       "      <td>4624.92</td>\n",
       "      <td>882460.14</td>\n",
       "      <td>265211.69</td>\n",
       "      <td>121037.33</td>\n",
       "      <td>98790.30</td>\n",
       "      <td>14953913.05</td>\n",
       "      <td>NaN</td>\n",
       "      <td>NaN</td>\n",
       "      <td>NaN</td>\n",
       "      <td>NaN</td>\n",
       "    </tr>\n",
       "  </tbody>\n",
       "</table>\n",
       "<p>5 rows × 38 columns</p>\n",
       "</div>"
      ],
      "text/plain": [
       "   tyear  Period  Agriculture  CropProduction  Livestock  Forestry   Fishing  \\\n",
       "0   1981  Annual   2364373.15      1854764.44  341411.50  77897.99  90299.23   \n",
       "1   1982  Annual   2425960.89      1897078.85  361115.70  73910.25  93856.08   \n",
       "2   1983  Annual   2409081.92      1842704.31  393131.01  75282.78  97963.82   \n",
       "3   1984  Annual   2303505.42      1759115.15  399685.38  76694.14  68010.74   \n",
       "4   1985  Annual   2731062.47      2180907.71  428102.85  78082.45  43969.46   \n",
       "\n",
       "     Industry  MiningAndQuarrying  CrudePetroleumAndNaturalGas  ...  \\\n",
       "0  6603250.12                 NaN                   4977416.70  ...   \n",
       "1  6272828.03                 NaN                   4453093.63  ...   \n",
       "2  5264881.39                 NaN                   4052977.68  ...   \n",
       "3  5621181.44                 NaN                   4559196.21  ...   \n",
       "4  6379599.38                 NaN                   4918272.50  ...   \n",
       "\n",
       "   AdministrativeAndSupportServicesBusinessServices  PublicAdministration  \\\n",
       "0                                           3234.81             807075.54   \n",
       "1                                           3252.38             825921.69   \n",
       "2                                           3693.79             844767.84   \n",
       "3                                           3979.28             863613.99   \n",
       "4                                           4624.92             882460.14   \n",
       "\n",
       "   Education  HumanHealthAndSocialServices  OtherServices    TOTAL_GDP  \\\n",
       "0  242555.85                     110697.65      132700.20  15258004.34   \n",
       "1  248219.81                     113282.57      133767.58  14985078.32   \n",
       "2  253883.77                     115867.49      125819.69  13849725.17   \n",
       "3  259547.73                     118452.41      103092.67  13779255.49   \n",
       "4  265211.69                     121037.33       98790.30  14953913.05   \n",
       "\n",
       "   TotalGDPatConstantBasicPrices  NonOilGDPatConstantBasicPrices  \\\n",
       "0                            NaN                             NaN   \n",
       "1                            NaN                             NaN   \n",
       "2                            NaN                             NaN   \n",
       "3                            NaN                             NaN   \n",
       "4                            NaN                             NaN   \n",
       "\n",
       "   NetIndirectTaxesOnProducts  TotalGDPatConstantMarketPrices  \n",
       "0                         NaN                             NaN  \n",
       "1                         NaN                             NaN  \n",
       "2                         NaN                             NaN  \n",
       "3                         NaN                             NaN  \n",
       "4                         NaN                             NaN  \n",
       "\n",
       "[5 rows x 38 columns]"
      ]
     },
     "execution_count": 4,
     "metadata": {},
     "output_type": "execute_result"
    }
   ],
   "source": [
    "df.head()"
   ]
  },
  {
   "cell_type": "code",
   "execution_count": 5,
   "id": "9bcb2e0b",
   "metadata": {},
   "outputs": [
    {
     "name": "stderr",
     "output_type": "stream",
     "text": [
      "C:\\Users\\ezias\\AppData\\Local\\Temp\\ipykernel_14840\\749083740.py:2: FutureWarning: In a future version of pandas all arguments of DataFrame.drop except for the argument 'labels' will be keyword-only.\n",
      "  df.drop(df.columns.difference(['tyear','TOTAL_GDP']), 1, inplace=True)\n"
     ]
    },
    {
     "data": {
      "text/html": [
       "<div>\n",
       "<style scoped>\n",
       "    .dataframe tbody tr th:only-of-type {\n",
       "        vertical-align: middle;\n",
       "    }\n",
       "\n",
       "    .dataframe tbody tr th {\n",
       "        vertical-align: top;\n",
       "    }\n",
       "\n",
       "    .dataframe thead th {\n",
       "        text-align: right;\n",
       "    }\n",
       "</style>\n",
       "<table border=\"1\" class=\"dataframe\">\n",
       "  <thead>\n",
       "    <tr style=\"text-align: right;\">\n",
       "      <th></th>\n",
       "      <th>tyear</th>\n",
       "      <th>TOTAL_GDP</th>\n",
       "    </tr>\n",
       "  </thead>\n",
       "  <tbody>\n",
       "    <tr>\n",
       "      <th>0</th>\n",
       "      <td>1981</td>\n",
       "      <td>15258004.34</td>\n",
       "    </tr>\n",
       "    <tr>\n",
       "      <th>1</th>\n",
       "      <td>1982</td>\n",
       "      <td>14985078.32</td>\n",
       "    </tr>\n",
       "    <tr>\n",
       "      <th>2</th>\n",
       "      <td>1983</td>\n",
       "      <td>13849725.17</td>\n",
       "    </tr>\n",
       "    <tr>\n",
       "      <th>3</th>\n",
       "      <td>1984</td>\n",
       "      <td>13779255.49</td>\n",
       "    </tr>\n",
       "    <tr>\n",
       "      <th>4</th>\n",
       "      <td>1985</td>\n",
       "      <td>14953913.05</td>\n",
       "    </tr>\n",
       "  </tbody>\n",
       "</table>\n",
       "</div>"
      ],
      "text/plain": [
       "   tyear    TOTAL_GDP\n",
       "0   1981  15258004.34\n",
       "1   1982  14985078.32\n",
       "2   1983  13849725.17\n",
       "3   1984  13779255.49\n",
       "4   1985  14953913.05"
      ]
     },
     "execution_count": 5,
     "metadata": {},
     "output_type": "execute_result"
    }
   ],
   "source": [
    "#droping the irrelevant columns \n",
    "df.drop(df.columns.difference(['tyear','TOTAL_GDP']), 1, inplace=True)\n",
    "df.head()"
   ]
  },
  {
   "cell_type": "code",
   "execution_count": 6,
   "id": "09d83583",
   "metadata": {},
   "outputs": [],
   "source": [
    "df.set_index('tyear', inplace=True)"
   ]
  },
  {
   "cell_type": "code",
   "execution_count": 7,
   "id": "7a9c2009",
   "metadata": {},
   "outputs": [
    {
     "data": {
      "text/html": [
       "<div>\n",
       "<style scoped>\n",
       "    .dataframe tbody tr th:only-of-type {\n",
       "        vertical-align: middle;\n",
       "    }\n",
       "\n",
       "    .dataframe tbody tr th {\n",
       "        vertical-align: top;\n",
       "    }\n",
       "\n",
       "    .dataframe thead th {\n",
       "        text-align: right;\n",
       "    }\n",
       "</style>\n",
       "<table border=\"1\" class=\"dataframe\">\n",
       "  <thead>\n",
       "    <tr style=\"text-align: right;\">\n",
       "      <th></th>\n",
       "      <th>TOTAL_GDP</th>\n",
       "    </tr>\n",
       "    <tr>\n",
       "      <th>tyear</th>\n",
       "      <th></th>\n",
       "    </tr>\n",
       "  </thead>\n",
       "  <tbody>\n",
       "    <tr>\n",
       "      <th>1981</th>\n",
       "      <td>15258004.34</td>\n",
       "    </tr>\n",
       "    <tr>\n",
       "      <th>1982</th>\n",
       "      <td>14985078.32</td>\n",
       "    </tr>\n",
       "    <tr>\n",
       "      <th>1983</th>\n",
       "      <td>13849725.17</td>\n",
       "    </tr>\n",
       "    <tr>\n",
       "      <th>1984</th>\n",
       "      <td>13779255.49</td>\n",
       "    </tr>\n",
       "    <tr>\n",
       "      <th>1985</th>\n",
       "      <td>14953913.05</td>\n",
       "    </tr>\n",
       "  </tbody>\n",
       "</table>\n",
       "</div>"
      ],
      "text/plain": [
       "         TOTAL_GDP\n",
       "tyear             \n",
       "1981   15258004.34\n",
       "1982   14985078.32\n",
       "1983   13849725.17\n",
       "1984   13779255.49\n",
       "1985   14953913.05"
      ]
     },
     "execution_count": 7,
     "metadata": {},
     "output_type": "execute_result"
    }
   ],
   "source": [
    "df.head()"
   ]
  },
  {
   "cell_type": "code",
   "execution_count": 8,
   "id": "e3c2fdb3",
   "metadata": {},
   "outputs": [
    {
     "name": "stderr",
     "output_type": "stream",
     "text": [
      "C:\\Users\\ezias\\AppData\\Local\\Temp\\ipykernel_14840\\450646963.py:3: FutureWarning: The pandas.datetime class is deprecated and will be removed from pandas in a future version. Import from datetime module instead.\n",
      "  from pandas import datetime\n"
     ]
    },
    {
     "data": {
      "image/png": "[encoded data removed]",
      "text/plain": [
       "<Figure size 432x288 with 1 Axes>"
      ]
     },
     "metadata": {
      "needs_background": "light"
     },
     "output_type": "display_data"
    }
   ],
   "source": [
    "#A plot of the Total GDP against the corresponding years\n",
    "from pandas import read_csv\n",
    "from pandas import datetime\n",
    "from matplotlib import pyplot\n",
    " \n",
    "\n",
    "df.plot()\n",
    "pyplot.title('Total GDP PLOT')\n",
    "pyplot.show()"
   ]
  },
  {
   "cell_type": "code",
   "execution_count": 9,
   "id": "023c27fb",
   "metadata": {},
   "outputs": [
    {
     "data": {
      "image/png": "[encoded data removed]",
      "text/plain": [
       "<Figure size 432x288 with 1 Axes>"
      ]
     },
     "metadata": {
      "needs_background": "light"
     },
     "output_type": "display_data"
    }
   ],
   "source": [
    "#Autocorrelation plot\n",
    "from pandas.plotting import autocorrelation_plot\n",
    "autocorrelation_plot(df)\n",
    "pyplot.title('Autocorrelation plot')\n",
    "pyplot.show()"
   ]
  },
  {
   "cell_type": "code",
   "execution_count": 10,
   "id": "7ce0cdf1",
   "metadata": {},
   "outputs": [],
   "source": [
    "from statsmodels.tsa.arima.model import ARIMA"
   ]
  },
  {
   "cell_type": "code",
   "execution_count": 11,
   "id": "e9c237ec",
   "metadata": {},
   "outputs": [],
   "source": [
    "from pandas import DataFrame"
   ]
  },
  {
   "cell_type": "code",
   "execution_count": 12,
   "id": "15e777ca",
   "metadata": {},
   "outputs": [
    {
     "name": "stderr",
     "output_type": "stream",
     "text": [
      "C:\\ProgramData\\Anaconda3\\lib\\site-packages\\statsmodels\\tsa\\base\\tsa_model.py:471: ValueWarning: An unsupported index was provided and will be ignored when e.g. forecasting.\n",
      "  self._init_dates(dates, freq)\n",
      "C:\\ProgramData\\Anaconda3\\lib\\site-packages\\statsmodels\\tsa\\base\\tsa_model.py:471: ValueWarning: An unsupported index was provided and will be ignored when e.g. forecasting.\n",
      "  self._init_dates(dates, freq)\n",
      "C:\\ProgramData\\Anaconda3\\lib\\site-packages\\statsmodels\\tsa\\base\\tsa_model.py:471: ValueWarning: An unsupported index was provided and will be ignored when e.g. forecasting.\n",
      "  self._init_dates(dates, freq)\n",
      "C:\\ProgramData\\Anaconda3\\lib\\site-packages\\statsmodels\\tsa\\statespace\\sarimax.py:966: UserWarning: Non-stationary starting autoregressive parameters found. Using zeros as starting parameters.\n",
      "  warn('Non-stationary starting autoregressive parameters'\n"
     ]
    },
    {
     "name": "stdout",
     "output_type": "stream",
     "text": [
      "                               SARIMAX Results                                \n",
      "==============================================================================\n",
      "Dep. Variable:              TOTAL_GDP   No. Observations:                   77\n",
      "Model:                 ARIMA(5, 1, 0)   Log Likelihood               -1298.805\n",
      "Date:                Tue, 09 Aug 2022   AIC                           2609.610\n",
      "Time:                        22:46:22   BIC                           2623.595\n",
      "Sample:                             0   HQIC                          2615.199\n",
      "                                 - 77                                         \n",
      "Covariance Type:                  opg                                         \n",
      "==============================================================================\n",
      "                 coef    std err          z      P>|z|      [0.025      0.975]\n",
      "------------------------------------------------------------------------------\n",
      "ar.L1         -0.3193      0.068     -4.683      0.000      -0.453      -0.186\n",
      "ar.L2         -0.3102      0.087     -3.573      0.000      -0.480      -0.140\n",
      "ar.L3         -0.3179      0.069     -4.626      0.000      -0.453      -0.183\n",
      "ar.L4         -0.3465      0.037     -9.426      0.000      -0.419      -0.274\n",
      "ar.L5          0.6376      0.051     12.565      0.000       0.538       0.737\n",
      "sigma2       3.45e+13   2.26e-15   1.52e+28      0.000    3.45e+13    3.45e+13\n",
      "===================================================================================\n",
      "Ljung-Box (L1) (Q):                   0.04   Jarque-Bera (JB):               912.74\n",
      "Prob(Q):                              0.84   Prob(JB):                         0.00\n",
      "Heteroskedasticity (H):               0.23   Skew:                            -1.87\n",
      "Prob(H) (two-sided):                  0.00   Kurtosis:                        19.56\n",
      "===================================================================================\n",
      "\n",
      "Warnings:\n",
      "[1] Covariance matrix calculated using the outer product of gradients (complex-step).\n",
      "[2] Covariance matrix is singular or near-singular, with condition number 1.23e+43. Standard errors may be unstable.\n"
     ]
    },
    {
     "data": {
      "image/png": "[encoded data removed]",
      "text/plain": [
       "<Figure size 432x288 with 1 Axes>"
      ]
     },
     "metadata": {
      "needs_background": "light"
     },
     "output_type": "display_data"
    },
    {
     "data": {
      "image/png": "[encoded data removed]",
      "text/plain": [
       "<Figure size 432x288 with 1 Axes>"
      ]
     },
     "metadata": {
      "needs_background": "light"
     },
     "output_type": "display_data"
    },
    {
     "name": "stdout",
     "output_type": "stream",
     "text": [
      "                  0\n",
      "count  7.700000e+01\n",
      "mean   7.118651e+05\n",
      "std    6.414831e+06\n",
      "min   -3.484775e+07\n",
      "25%   -1.899653e+05\n",
      "50%    8.449681e+05\n",
      "75%    2.008476e+06\n",
      "max    2.514734e+07\n"
     ]
    }
   ],
   "source": [
    "# fit model\n",
    "model = ARIMA(df, order=(5,1,0))\n",
    "model_fit = model.fit()\n",
    "# summary of fit model\n",
    "print(model_fit.summary())\n",
    "# line plot of residuals\n",
    "residuals = DataFrame(model_fit.resid)\n",
    "residuals.plot()\n",
    "pyplot.title('line plot of residuals')\n",
    "pyplot.show()\n",
    "# density plot of residuals\n",
    "residuals.plot(kind='kde')\n",
    "pyplot.title('density plot of residuals')\n",
    "pyplot.show()\n",
    "# summary stats of residuals\n",
    "print(residuals.describe())"
   ]
  },
  {
   "cell_type": "code",
   "execution_count": 13,
   "id": "67d15f42",
   "metadata": {},
   "outputs": [],
   "source": [
    "from math import sqrt\n",
    "from sklearn.metrics import mean_squared_error"
   ]
  },
  {
   "cell_type": "code",
   "execution_count": 14,
   "id": "b0a7802b",
   "metadata": {},
   "outputs": [
    {
     "name": "stderr",
     "output_type": "stream",
     "text": [
      "C:\\ProgramData\\Anaconda3\\lib\\site-packages\\statsmodels\\tsa\\statespace\\sarimax.py:966: UserWarning: Non-stationary starting autoregressive parameters found. Using zeros as starting parameters.\n",
      "  warn('Non-stationary starting autoregressive parameters'\n"
     ]
    },
    {
     "name": "stdout",
     "output_type": "stream",
     "text": [
      "predicted=16914122.128200, expected=17555441.690000\n",
      "predicted=15876428.623643, expected=18213537.290000\n",
      "predicted=67943615.984196, expected=67931235.930000\n",
      "predicted=18520996.185356, expected=15797965.830000\n",
      "predicted=16708371.839244, expected=16334719.270000\n",
      "predicted=16885310.400949, expected=17760228.170000\n",
      "predicted=16397659.182683, expected=18598067.070000\n",
      "predicted=67311021.591041, expected=68490980.340000\n",
      "predicted=19017309.175905, expected=16096654.190000\n",
      "predicted=17057880.721312, expected=16580508.070000\n",
      "predicted=17279562.399117, expected=18081342.100000\n",
      "predicted=17131446.674095, expected=19041437.590000\n",
      "predicted=67974843.282023, expected=69799941.950000\n",
      "predicted=19497486.199127, expected=16434552.650000\n",
      "predicted=17271372.414775, expected=16931434.890000\n"
     ]
    },
    {
     "name": "stderr",
     "output_type": "stream",
     "text": [
      "No artists with labels found to put in legend.  Note that artists whose label start with an underscore are ignored when legend() is called with no argument.\n"
     ]
    },
    {
     "name": "stdout",
     "output_type": "stream",
     "text": [
      "predicted=17741182.947303, expected=18494114.170000\n",
      "Test RMSE: 1711571.762\n"
     ]
    },
    {
     "data": {
      "image/png": "[encoded data removed]",
      "text/plain": [
       "<Figure size 432x288 with 1 Axes>"
      ]
     },
     "metadata": {
      "needs_background": "light"
     },
     "output_type": "display_data"
    }
   ],
   "source": [
    "# split into train and test sets\n",
    "X = df.values\n",
    "size = int(len(X) * 0.8)\n",
    "train, test = X[0:size], X[size:len(X)]\n",
    "history = [x for x in train]\n",
    "predictions = list()\n",
    "# walk-forward validation\n",
    "for t in range(len(test)):\n",
    "    model = ARIMA(history, order=(5,1,0))\n",
    "    model_fit = model.fit()\n",
    "    output = model_fit.forecast()\n",
    "    yhat = output[0]\n",
    "    predictions.append(yhat)\n",
    "    obs = test[t]\n",
    "    history.append(obs)\n",
    "    print('predicted=%f, expected=%f' % (yhat, obs))\n",
    "# evaluate forecasts\n",
    "rmse = sqrt(mean_squared_error(test, predictions))\n",
    "print('Test RMSE: %.3f' % rmse)\n",
    "# plot forecasts against actual outcomes\n",
    "pyplot.plot(test)\n",
    "pyplot.plot(predictions, color='red')\n",
    "pyplot.title('plot of forecasts against actual outcomes')\n",
    "pyplot.legend()\n",
    "pyplot.show()"
   ]
  },
  {
   "cell_type": "code",
   "execution_count": 15,
   "id": "222709d8",
   "metadata": {},
   "outputs": [
    {
     "name": "stdout",
     "output_type": "stream",
     "text": [
      "1402092.1769288818\n",
      "2929477896820.883\n",
      "1711571.7621008132\n"
     ]
    }
   ],
   "source": [
    "from sklearn import metrics\n",
    "print(metrics.mean_absolute_error(test, predictions))\n",
    "print(metrics.mean_squared_error(test, predictions))\n",
    "print(np.sqrt(metrics.mean_squared_error(test, predictions)))"
   ]
  },
  {
   "cell_type": "code",
   "execution_count": null,
   "id": "a3de7c55",
   "metadata": {},
   "outputs": [],
   "source": []
  }
 ],
 "metadata": {
  "kernelspec": {
   "display_name": "Python 3 (ipykernel)",
   "language": "python",
   "name": "python3"
  },
  "language_info": {
   "codemirror_mode": {
    "name": "ipython",
    "version": 3
   },
   "file_extension": ".py",
   "mimetype": "text/x-python",
   "name": "python",
   "nbconvert_exporter": "python",
   "pygments_lexer": "ipython3",
   "version": "3.9.12"
  }
 },
 "nbformat": 4,
 "nbformat_minor": 5
}
